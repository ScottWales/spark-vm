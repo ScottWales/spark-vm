{
 "cells": [
  {
   "cell_type": "code",
   "execution_count": 1,
   "metadata": {
    "collapsed": false
   },
   "outputs": [
    {
     "data": {
      "text/plain": [
       "<pyspark.context.SparkContext at 0x7f42b9bdbbd0>"
      ]
     },
     "execution_count": 1,
     "metadata": {},
     "output_type": "execute_result"
    }
   ],
   "source": [
    "sc"
   ]
  },
  {
   "cell_type": "code",
   "execution_count": 2,
   "metadata": {
    "collapsed": true
   },
   "outputs": [],
   "source": [
    "file = sc.textFile('README.md')"
   ]
  },
  {
   "cell_type": "code",
   "execution_count": 3,
   "metadata": {
    "collapsed": true
   },
   "outputs": [],
   "source": [
    "counts = file.flatMap(lambda line: line.split(\" \")).map(lambda word: (word, 1)).reduceByKey(lambda v1, v2: v1+v2)"
   ]
  },
  {
   "cell_type": "code",
   "execution_count": 5,
   "metadata": {
    "collapsed": false
   },
   "outputs": [
    {
     "data": {
      "text/plain": [
       "[(u'', 21),\n",
       " (u'and', 3),\n",
       " (u'`vagrant', 1),\n",
       " (u'machine,', 1),\n",
       " (u'##', 2),\n",
       " (u'Stop', 1),\n",
       " (u'image', 1),\n",
       " (u'`http://localhost8880`', 1),\n",
       " (u'Vagrant', 2),\n",
       " (u'installed', 1),\n",
       " (u'Start', 1),\n",
       " (u'manages', 1),\n",
       " (u'A', 1),\n",
       " (u'are', 1),\n",
       " (u'go', 1),\n",
       " (u'in', 1),\n",
       " (u'Test', 1),\n",
       " (u'Jupyter', 1),\n",
       " (u'You', 1),\n",
       " (u'environment', 1),\n",
       " (u'available', 1),\n",
       " (u'for', 2),\n",
       " (u'also', 1),\n",
       " (u'`/opt/spark/bin/pyspark`', 1),\n",
       " (u'*', 2),\n",
       " (u'vagrant', 2),\n",
       " (u'Jupyter,', 1),\n",
       " (u'virtual', 3),\n",
       " (u'Jupyter.', 1),\n",
       " (u'machine', 2),\n",
       " (u'to', 2),\n",
       " (u'location', 1),\n",
       " (u'installing', 1),\n",
       " (u'destroy', 1),\n",
       " (u'Spark', 3),\n",
       " (u'is', 1),\n",
       " (u'###', 2),\n",
       " (u'files', 1),\n",
       " (u'then', 1),\n",
       " (u'downloading', 1),\n",
       " (u'run', 1),\n",
       " (u'`/vagrant`,', 1),\n",
       " (u'VM', 1),\n",
       " (u'Pre-requisites', 1),\n",
       " (u'host', 1),\n",
       " (u'base', 1),\n",
       " (u'Using', 1),\n",
       " (u'==========================', 1),\n",
       " (u'with', 1),\n",
       " (u'VirtualBox', 1),\n",
       " (u'a', 1),\n",
       " (u'on', 2),\n",
       " (u'ssh`', 1),\n",
       " (u'www.virtualbox.org', 1),\n",
       " (u'this', 2),\n",
       " (u'access', 1),\n",
       " (u'up', 1),\n",
       " (u'Any', 1),\n",
       " (u'macine', 1),\n",
       " (u'default', 1),\n",
       " (u'can', 1),\n",
       " (u'directory', 1),\n",
       " (u'the', 5),\n",
       " (u'www.vagrantup.com', 1),\n",
       " (u'or', 1),\n",
       " (u'at', 1)]"
      ]
     },
     "execution_count": 5,
     "metadata": {},
     "output_type": "execute_result"
    }
   ],
   "source": [
    "counts.collect()"
   ]
  },
  {
   "cell_type": "code",
   "execution_count": null,
   "metadata": {
    "collapsed": true
   },
   "outputs": [],
   "source": []
  }
 ],
 "metadata": {
  "kernelspec": {
   "display_name": "Python 2",
   "language": "python",
   "name": "python2"
  },
  "language_info": {
   "codemirror_mode": {
    "name": "ipython",
    "version": 2
   },
   "file_extension": ".py",
   "mimetype": "text/x-python",
   "name": "python",
   "nbconvert_exporter": "python",
   "pygments_lexer": "ipython2",
   "version": "2.7.8"
  }
 },
 "nbformat": 4,
 "nbformat_minor": 0
}
